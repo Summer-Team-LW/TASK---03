{
 "cells": [
  {
   "cell_type": "code",
   "execution_count": 1,
   "metadata": {},
   "outputs": [],
   "source": [
    "import cv2\n",
    "import socket\n",
    "import base64\n",
    "import os\n",
    "import time\n",
    "import threading"
   ]
  },
  {
   "cell_type": "code",
   "execution_count": 2,
   "metadata": {},
   "outputs": [],
   "source": [
    "def video_receiver():\n",
    "    s=socket.socket()\n",
    "    ip=\"192.168.29.98\"\n",
    "    port=1234\n",
    "    s.connect((ip,port))\n",
    "    i=0\n",
    "    while True:\n",
    "        time.sleep(2)\n",
    "        try:\n",
    "            data =s.recv(100000000)\n",
    "            img_data = base64.b64decode(data)\n",
    "            filename=\"{}.jpg\".format(i)\n",
    "            with open(filename, 'wb') as f:\n",
    "                f.write(img_data)\n",
    "\n",
    "            image= \"image\"+\"{}\".format(i)\n",
    "            image=cv2.imread(filename)\n",
    "\n",
    "            print(image)\n",
    "            cv2.imshow('Karthik calling...',image)\n",
    "            os.remove(\"{}.jpg\".format(i))\n",
    "            i=i+1\n",
    "            if cv2.waitKey(100) == 13:\n",
    "                break\n",
    "\n",
    "        except:\n",
    "            pass\n",
    "    cv2.destroyAllWindows()"
   ]
  },
  {
   "cell_type": "code",
   "execution_count": 3,
   "metadata": {},
   "outputs": [],
   "source": [
    "def video_sender():\n",
    "    s=socket.socket()\n",
    "    ip=\"192.168.29.98\"\n",
    "    port=1235\n",
    "    s.connect((ip,port))\n",
    "    cap=cv2.VideoCapture(0)\n",
    "    while True:\n",
    "        time.sleep(2)\n",
    "        ret,photo=cap.read()\n",
    "        cv2.imwrite(\"videocall.jpg\",photo)\n",
    "        with open(\"videocall.jpg\", 'rb') as f:\n",
    "            image_encoded=base64.b64encode(f.read())\n",
    "        s.send(image_encoded)"
   ]
  },
  {
   "cell_type": "code",
   "execution_count": 4,
   "metadata": {},
   "outputs": [
    {
     "name": "stderr",
     "output_type": "stream",
     "text": [
      "Exception in thread Exception in thread Thread-4:\n",
      "Traceback (most recent call last):\n",
      "  File \"/Users/karthikkasukurti/opt/anaconda3/lib/python3.8/threading.py\", line 932, in _bootstrap_inner\n",
      "Thread-5:\n",
      "Traceback (most recent call last):\n",
      "  File \"/Users/karthikkasukurti/opt/anaconda3/lib/python3.8/threading.py\", line 932, in _bootstrap_inner\n",
      "        self.run()\n",
      "  File \"/Users/karthikkasukurti/opt/anaconda3/lib/python3.8/threading.py\", line 870, in run\n",
      "self.run()\n",
      "  File \"/Users/karthikkasukurti/opt/anaconda3/lib/python3.8/threading.py\", line 870, in run\n",
      "    self._target(*self._args, **self._kwargs)\n",
      "  File \"<ipython-input-3-a9319599cd38>\", line 5, in video_sender\n",
      "    self._target(*self._args, **self._kwargs)\n",
      "  File \"<ipython-input-2-37f586d23272>\", line 5, in video_receiver\n",
      "ConnectionRefusedErrorConnectionRefusedError: [Errno 61] Connection refused\n",
      ": [Errno 61] Connection refused\n"
     ]
    }
   ],
   "source": [
    "t_recv=threading.Thread(target=video_receiver)\n",
    "t_send=threading.Thread(target=video_sender)\n",
    "t_recv.start()\n",
    "t_send.start()"
   ]
  },
  {
   "cell_type": "code",
   "execution_count": null,
   "metadata": {},
   "outputs": [],
   "source": []
  }
 ],
 "metadata": {
  "kernelspec": {
   "display_name": "Python 3",
   "language": "python",
   "name": "python3"
  },
  "language_info": {
   "codemirror_mode": {
    "name": "ipython",
    "version": 3
   },
   "file_extension": ".py",
   "mimetype": "text/x-python",
   "name": "python",
   "nbconvert_exporter": "python",
   "pygments_lexer": "ipython3",
   "version": "3.8.5"
  }
 },
 "nbformat": 4,
 "nbformat_minor": 4
}
