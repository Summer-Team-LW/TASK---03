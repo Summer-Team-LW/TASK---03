{
 "cells": [
  {
   "cell_type": "code",
   "execution_count": 1,
   "metadata": {},
   "outputs": [],
   "source": [
    "import cv2\n",
    "import base64\n",
    "import socket\n",
    "import time\n",
    "import threading"
   ]
  },
  {
   "cell_type": "code",
   "execution_count": 2,
   "metadata": {},
   "outputs": [],
   "source": [
    "def send_video():\n",
    "    s=socket.socket()\n",
    "    ip=\"192.168.29.179\"\n",
    "    port=5500\n",
    "    s.connect((ip,port))\n",
    "    cap=cv2.VideoCapture(0)\n",
    "    while True:\n",
    "        time.sleep(0.2)\n",
    "        ret,photo=cap.read()\n",
    "        cv2.imwrite(\"video_call.jpg\",photo)\n",
    "        with open(\"video_call.jpg\", 'rb') as f:\n",
    "            image_encoded=base64.b64encode(f.read()) #Encoding the image\n",
    "        s.send(image_encoded)"
   ]
  },
  {
   "cell_type": "code",
   "execution_count": 3,
   "metadata": {},
   "outputs": [],
   "source": [
    "def receive_video():\n",
    "    s=socket.socket()\n",
    "    ip=\"192.168.29.179\"\n",
    "    port=5501\n",
    "    s.connect((ip,port))\n",
    "    i=0\n",
    "    while True:\n",
    "        time.sleep(2)\n",
    "        try:\n",
    "            data =s.recv(100000000)\n",
    "            imgdata = base64.b64decode(data)\n",
    "            filename=\"a\"+\"{}.jpg\".format(i)\n",
    "            with open(filename, 'wb') as f:\n",
    "                f.write(imgdata)\n",
    "\n",
    "            image1= \"image1\"+\"{}\".format(i)\n",
    "            image1=cv2.imread(filename)\n",
    "\n",
    "            print(image1)\n",
    "            cv2.imshow('Nitesh calling...',image1)\n",
    "            os.remove(\"a\"+\"{}.jpg\".format(i))\n",
    "            i=i+1\n",
    "            if cv2.waitKey(100) == 13:\n",
    "                break\n",
    "\n",
    "        except:\n",
    "            pass\n",
    "    cv2.destroyAllWindows()"
   ]
  },
  {
   "cell_type": "code",
   "execution_count": 5,
   "metadata": {},
   "outputs": [
    {
     "name": "stderr",
     "output_type": "stream",
     "text": [
      "Exception in thread Thread-5:\n",
      "Traceback (most recent call last):\n",
      "  File \"/Users/karthikkasukurti/opt/anaconda3/lib/python3.8/threading.py\", line 932, in _bootstrap_inner\n",
      "    self.run()\n",
      "  File \"/Users/karthikkasukurti/opt/anaconda3/lib/python3.8/threading.py\", line 870, in run\n",
      "    self._target(*self._args, **self._kwargs)\n",
      "  File \"<ipython-input-3-19e9c25dd8a9>\", line 5, in receive_video\n",
      "ConnectionRefusedError: [Errno 61] Connection refused\n",
      "Exception in thread Thread-4:\n",
      "Traceback (most recent call last):\n",
      "  File \"/Users/karthikkasukurti/opt/anaconda3/lib/python3.8/threading.py\", line 932, in _bootstrap_inner\n",
      "    self.run()\n",
      "  File \"/Users/karthikkasukurti/opt/anaconda3/lib/python3.8/threading.py\", line 870, in run\n",
      "    self._target(*self._args, **self._kwargs)\n",
      "  File \"<ipython-input-2-4f29236b50e8>\", line 14, in send_video\n",
      "BrokenPipeError: [Errno 32] Broken pipe\n"
     ]
    }
   ],
   "source": [
    "t_send=threading.Thread(target=send_video)\n",
    "t_recv1=threading.Thread(target=receive_video)\n",
    "\n",
    "\n",
    "t_send.start()\n",
    "t_recv1.start()\n"
   ]
  },
  {
   "cell_type": "code",
   "execution_count": null,
   "metadata": {},
   "outputs": [],
   "source": []
  }
 ],
 "metadata": {
  "kernelspec": {
   "display_name": "Python 3",
   "language": "python",
   "name": "python3"
  },
  "language_info": {
   "codemirror_mode": {
    "name": "ipython",
    "version": 3
   },
   "file_extension": ".py",
   "mimetype": "text/x-python",
   "name": "python",
   "nbconvert_exporter": "python",
   "pygments_lexer": "ipython3",
   "version": "3.8.5"
  }
 },
 "nbformat": 4,
 "nbformat_minor": 4
}
